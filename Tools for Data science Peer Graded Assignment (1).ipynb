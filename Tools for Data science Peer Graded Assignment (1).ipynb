{
 "cells": [
  {
   "cell_type": "markdown",
   "id": "6eee351b",
   "metadata": {},
   "source": [
    "### Exercise 2:\n",
    "\n",
    "# Data science Tools and Ecosystem "
   ]
  },
  {
   "cell_type": "markdown",
   "id": "2cbe964a",
   "metadata": {},
   "source": [
    "### Exercise 3:\n",
    "\n",
    "Introduction to Data Science Tools\n",
    "\n",
    "In this notebook, Data Science Tools and Ecosystem are summarized."
   ]
  },
  {
   "cell_type": "markdown",
   "id": "d67ba02e",
   "metadata": {},
   "source": [
    "### Exercise 4:\n",
    "\n",
    "Some of the Popular Languages that Data Science use are :\n",
    "    \n",
    "    1. Python\n",
    "    2. R\n",
    "    3. SQL\n",
    "    4. Java\n",
    "    5.Scala\n",
    "    6. Julia\n",
    "    7. JavaScript\n",
    "    8. C++\n",
    "    9. Sas\n",
    "    10.Ruby"
   ]
  },
  {
   "cell_type": "markdown",
   "id": "5207f9d7",
   "metadata": {},
   "source": [
    "### Exercise 5:\n",
    "\n",
    "Some of the Commonly Used Libraries used by Data Scientists include :\n",
    "\n",
    "    1. Sklearn\n",
    "    2. tensorFlow\n",
    "    3. Keras\n",
    "    4. PyTorch\n",
    "    5. Pandas\n",
    "    6. Numpy\n",
    "    7. Matplotlib\n",
    "    8. Seabon\n",
    "    9. Scipy\n",
    "    "
   ]
  },
  {
   "cell_type": "markdown",
   "id": "966665b5",
   "metadata": {},
   "source": [
    "Exercise 6:\n",
    "\n",
    "###### Table of Data Sc ience Tools\n",
    "\n",
    "|Data Science Tools|\n",
    "|:--------:|\n",
    "|Sklearn|\n",
    "|tensorflow|\n",
    "|tidyverse|\n",
    "|Keras|\n",
    "|Dplyr|"
   ]
  },
  {
   "cell_type": "markdown",
   "id": "53f7147d",
   "metadata": {},
   "source": [
    "### Exercise 7:\n",
    "\n",
    "###### Below are few examples of envaluating arithmetic expressions in python:\n",
    "\n",
    "a = 2 + 3  - Addition\n",
    "\n",
    "b = 5 - 1  - Subtraction\n",
    "\n",
    "c = 5 * 2  - Multiplication\n",
    "\n",
    "d = 10/2   - Division\n",
    "\n",
    "e = 9//2   - Modulus\n",
    "\n",
    "f = 2**3   - Power "
   ]
  },
  {
   "cell_type": "markdown",
   "id": "d25b9059",
   "metadata": {},
   "source": [
    "### Exercise 8"
   ]
  },
  {
   "cell_type": "code",
   "execution_count": 3,
   "id": "40c8fed5",
   "metadata": {},
   "outputs": [
    {
     "data": {
      "text/plain": [
       "17"
      ]
     },
     "execution_count": 3,
     "metadata": {},
     "output_type": "execute_result"
    }
   ],
   "source": [
    "# This is a simple arithmetic expression to multiply the add integers:\n",
    "(3*4)+5"
   ]
  },
  {
   "cell_type": "markdown",
   "id": "51511085",
   "metadata": {},
   "source": [
    "### Exercise 9"
   ]
  },
  {
   "cell_type": "code",
   "execution_count": 4,
   "id": "5b0c04b0",
   "metadata": {},
   "outputs": [
    {
     "name": "stdout",
     "output_type": "stream",
     "text": [
      "Enter the value of minutes you want to convert: 200\n"
     ]
    },
    {
     "data": {
      "text/plain": [
       "3.3333333333333335"
      ]
     },
     "execution_count": 4,
     "metadata": {},
     "output_type": "execute_result"
    }
   ],
   "source": [
    "# Minutes to Hours convertion\n",
    "# This will convert 200 minutes to hour by dividing by 60\n",
    "def m2h_converter(m):\n",
    "    # m2h means minutes to hours.\n",
    "    converter = m/60 #dividing minutes by 60\n",
    "    return converter\n",
    "minutes = int(input(\"Enter the value of minutes you want to convert: \")) # inpute 200 minutes\n",
    "\n",
    "m2h_converter(minutes)"
   ]
  },
  {
   "cell_type": "markdown",
   "id": "edcb9dae",
   "metadata": {},
   "source": [
    "### Exercise 10:\n",
    "\n",
    "##### list of objectives:\n",
    "\n",
    "    - understanding jupiter as an important tools for data science\n",
    "    \n",
    "    - Listing of Data science Tools\n",
    "    \n",
    "    - navigating through the jupiter notebook menue \n",
    "    \n",
    "    - creating different types of cell on jupiter notebook e.g Markdown cell"
   ]
  },
  {
   "cell_type": "markdown",
   "id": "80b0d6be",
   "metadata": {},
   "source": [
    "### Exercise 11:\n",
    "\n",
    "## Author's name : Fasansi Sodiq Ajagun"
   ]
  },
  {
   "cell_type": "code",
   "execution_count": null,
   "id": "081bb5e8",
   "metadata": {},
   "outputs": [],
   "source": []
  }
 ],
 "metadata": {
  "kernelspec": {
   "display_name": "Python 3 (ipykernel)",
   "language": "python",
   "name": "python3"
  },
  "language_info": {
   "codemirror_mode": {
    "name": "ipython",
    "version": 3
   },
   "file_extension": ".py",
   "mimetype": "text/x-python",
   "name": "python",
   "nbconvert_exporter": "python",
   "pygments_lexer": "ipython3",
   "version": "3.9.7"
  }
 },
 "nbformat": 4,
 "nbformat_minor": 5
}
