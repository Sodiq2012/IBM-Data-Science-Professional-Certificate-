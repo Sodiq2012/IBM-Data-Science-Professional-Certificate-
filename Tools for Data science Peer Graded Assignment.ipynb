{
 "cells": [
  {
   "cell_type": "markdown",
   "id": "b26a5a2c",
   "metadata": {},
   "source": [
    "Exercise 2:\n",
    "\n",
    "Tools for Data science Peer Graded Assignment"
   ]
  },
  {
   "cell_type": "markdown",
   "id": "e931757b",
   "metadata": {},
   "source": [
    "Exercise 3:\n",
    "\n",
    "Introduction to Data Science Tools"
   ]
  },
  {
   "cell_type": "markdown",
   "id": "ce38980d",
   "metadata": {},
   "source": [
    "Exercise 4:\n",
    "\n",
    "List of Data Science Languages:\n",
    "    \n",
    "    1. Python\n",
    "    2. R\n",
    "    3. SQL\n",
    "    4. Java\n",
    "    5.Scala\n",
    "    6. Julia\n",
    "    7. JavaScript\n",
    "    8. C++\n",
    "    9. Sas\n",
    "    10.Ruby"
   ]
  },
  {
   "cell_type": "markdown",
   "id": "b54d2ac8",
   "metadata": {},
   "source": [
    "Exercise 5:\n",
    "\n",
    "List of Data Science Libraries:\n",
    "\n",
    "    1. Sklearn\n",
    "    2. tensorFlow\n",
    "    3. Keras\n",
    "    4. PyTorch\n",
    "    5. Pandas\n",
    "    6. Numpy\n",
    "    7. Matplotlib\n",
    "    8. Seabon\n",
    "    9. Scipy\n",
    "    "
   ]
  },
  {
   "cell_type": "code",
   "execution_count": 53,
   "id": "12000cdb",
   "metadata": {},
   "outputs": [
    {
     "name": "stdout",
     "output_type": "stream",
     "text": [
      "+------------+-----------+\n",
      "| Python     | R         |\n",
      "+============+===========+\n",
      "| Sklearn    | tidyverse |\n",
      "+------------+-----------+\n",
      "| tensorFlow | Dplyr     |\n",
      "+------------+-----------+\n",
      "| Keras      | Ggplot    |\n",
      "+------------+-----------+\n"
     ]
    }
   ],
   "source": [
    "from tabulate import tabulate \n",
    "data = [\n",
    "        ['Python','R'],\n",
    "        ['Sklearn', 'tidyverse'],\n",
    "         ['tensorFlow', 'Dplyr'],\n",
    "       ['Keras', 'Ggplot']\n",
    "        ]\n",
    "                    \n",
    "tool_table = tabulate(data, headers='firstrow', tablefmt=\"grid\")\n",
    "print(tool_table)"
   ]
  },
  {
   "cell_type": "markdown",
   "id": "dbfd55ee",
   "metadata": {},
   "source": [
    "Exercise 7:\n",
    "\n",
    "Introducing Arithmetic Expression Examples:\n",
    "\n",
    "a = 2 + 3  - Addition\n",
    "\n",
    "b = 5 - 1  - Subtraction\n",
    "\n",
    "c = 5 * 2  - Multiplication\n",
    "\n",
    "d = 10/2   - Division\n",
    "\n",
    "e = 9//2   - Modulus\n",
    "\n",
    "f = 2**3   - Power "
   ]
  },
  {
   "cell_type": "code",
   "execution_count": 10,
   "id": "40c8fed5",
   "metadata": {},
   "outputs": [
    {
     "name": "stdout",
     "output_type": "stream",
     "text": [
      "x=  5\n",
      "y=  10\n"
     ]
    }
   ],
   "source": [
    "# Exercise 8\n",
    "# Multiplication and Addition of numbers:\n",
    "a = 2\n",
    "b = 3\n",
    "x = a + b\n",
    "y = x*2\n",
    "print(\"x= \",x)\n",
    "print(\"y= \", y)"
   ]
  },
  {
   "cell_type": "code",
   "execution_count": 11,
   "id": "5b0c04b0",
   "metadata": {},
   "outputs": [
    {
     "name": "stdout",
     "output_type": "stream",
     "text": [
      "Enter the value of minutes you want to convert: 2023\n"
     ]
    },
    {
     "data": {
      "text/plain": [
       "33.71666666666667"
      ]
     },
     "execution_count": 11,
     "metadata": {},
     "output_type": "execute_result"
    }
   ],
   "source": [
    "# Exercise 9\n",
    "# Minutes to Hours convertion\n",
    "def m2h_converter(m):\n",
    "    # m2h means minutes to hours.\n",
    "    converter = m/60\n",
    "    return converter\n",
    "minutes = int(input(\"Enter the value of minutes you want to convert: \"))\n",
    "\n",
    "m2h_converter(minutes)"
   ]
  },
  {
   "cell_type": "markdown",
   "id": "d746bd95",
   "metadata": {},
   "source": [
    "Exercise 10:\n",
    "\n",
    "list of objectives:\n",
    "\n",
    "    - understanding jupiter as an important tools for data science\n",
    "    \n",
    "    - jupiter notebook on anaconda\n",
    "    \n",
    "    - navigating through the jupiter notebook menue \n",
    "    \n",
    "    - creating different types of cell on jupiter notebook"
   ]
  },
  {
   "cell_type": "markdown",
   "id": "94a62816",
   "metadata": {},
   "source": [
    "Exercise 11:\n",
    "\n",
    "Author's name : Fasansi Sodiq Ajagun"
   ]
  }
 ],
 "metadata": {
  "kernelspec": {
   "display_name": "Python 3 (ipykernel)",
   "language": "python",
   "name": "python3"
  },
  "language_info": {
   "codemirror_mode": {
    "name": "ipython",
    "version": 3
   },
   "file_extension": ".py",
   "mimetype": "text/x-python",
   "name": "python",
   "nbconvert_exporter": "python",
   "pygments_lexer": "ipython3",
   "version": "3.9.7"
  }
 },
 "nbformat": 4,
 "nbformat_minor": 5
}
